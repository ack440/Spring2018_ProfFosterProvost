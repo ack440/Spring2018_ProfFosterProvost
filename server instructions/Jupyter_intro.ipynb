{
 "cells": [
  {
   "cell_type": "markdown",
   "metadata": {},
   "source": [
    "# Jupyter (iPython) Notebook\n",
    "We are going to do our hands-on data science work “in the cloud” using Google Cloud, and will do the bulk of our work in IPython Notebooks."
   ]
  },
  {
   "cell_type": "markdown",
   "metadata": {},
   "source": [
    "## Accessing Jupyter Server\n",
    "Go to http://jupyterhub.ipeirotis.org/hub/login and sign in with your Stern credentials.\n",
    "\n",
    "![signin](images/signin.PNG)\n",
    "\n",
    "Click “Start my Server”.\n",
    "This may take some time to run the first time.\n",
    "\n",
    "![start_server](images/start_server.PNG)"
   ]
  },
  {
   "cell_type": "markdown",
   "metadata": {},
   "source": [
    "## Downloading the Modules\n",
    "Open a terminal window in Jupyter.\n",
    "![new_terminal](images/new_terminal.PNG)\n",
    "\n",
    "In the new terminal window type:\n",
    "\n",
    "```\n",
    "cd home/**[YOUR-STERN-ID]**/notebooks\n",
    "```\n",
    "\n",
    "For example:\n",
    "![change_directory](images/change_directory.PNG)\n",
    "This opens the folder where the ipython notebooks sit."
   ]
  },
  {
   "cell_type": "markdown",
   "metadata": {},
   "source": [
    "Once you are in the notebook directory copy-paste the following to the terminal to download the modules: \n",
    "\n",
    "```\n",
    "git clone https://github.com/nicholasg3/Spring2018_ProfFosterProvost.git\n",
    "```\n",
    "\n",
    "Ctrl-V doesn't work in terminals, but you can paste with a Right-click.\n",
    "\n",
    "The folder that comes preloaded on the server called `dealing_with_data` is material from Prof Panos' Python class that you can peruse to familiarize yourself with basic python concepts. We won't be expecting you to use SQL or AWS in this class."
   ]
  },
  {
   "cell_type": "code",
   "execution_count": null,
   "metadata": {},
   "outputs": [],
   "source": []
  }
 ],
 "metadata": {
  "kernelspec": {
   "display_name": "Python 3",
   "language": "python",
   "name": "python3"
  },
  "language_info": {
   "codemirror_mode": {
    "name": "ipython",
    "version": 3
   },
   "file_extension": ".py",
   "mimetype": "text/x-python",
   "name": "python",
   "nbconvert_exporter": "python",
   "pygments_lexer": "ipython3",
   "version": "3.5.2"
  }
 },
 "nbformat": 4,
 "nbformat_minor": 2
}
