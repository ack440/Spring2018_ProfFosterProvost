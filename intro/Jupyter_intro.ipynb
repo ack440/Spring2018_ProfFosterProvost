{
 "cells": [
  {
   "cell_type": "markdown",
   "metadata": {},
   "source": [
    "# Jupyter (iPython) Notebook Introduction\n",
    "We are going to do our hands-on data science work “in the cloud” using Google Cloud, and will do the bulk of our work in IPython Notebooks."
   ]
  },
  {
   "cell_type": "markdown",
   "metadata": {},
   "source": [
    "## Instructions\n",
    "Go to http://jupyterhub.ipeirotis.org/hub/login and sign in with your Stern credentials.\n",
    "\n",
    "![signin](images/signin.PNG)\n",
    "\n",
    "Click “Start my Server”.\n",
    "This may take some time to run the first time.\n",
    "\n",
    "![start_server](images/start_server.PNG)\n",
    "\n",
    "Create a new Python 3 notebook file.\n",
    "![new_terminal](images/new_terminal.PNG)"
   ]
  },
  {
   "cell_type": "markdown",
   "metadata": {},
   "source": [
    "In the new terminal window type ` cd home/[YOUR-STERN-ID]/notebooks`.This opens the folder where the ipython notebooks sit. \n",
    "![change_directory](images/change_directory.PNG)"
   ]
  },
  {
   "cell_type": "markdown",
   "metadata": {},
   "source": [
    "Once you are in the notebook directory copy the following to the terminal: ` git clone https://github.com/nicholasg3/Spring2018_ProfFosterProvost.git`\n",
    "\n",
    "This will download notebooks adapted from last year's material"
   ]
  },
  {
   "cell_type": "code",
   "execution_count": null,
   "metadata": {},
   "outputs": [],
   "source": []
  }
 ],
 "metadata": {
  "kernelspec": {
   "display_name": "Python 3",
   "language": "python",
   "name": "python3"
  },
  "language_info": {
   "codemirror_mode": {
    "name": "ipython",
    "version": 3
   },
   "file_extension": ".py",
   "mimetype": "text/x-python",
   "name": "python",
   "nbconvert_exporter": "python",
   "pygments_lexer": "ipython3",
   "version": "3.5.2"
  }
 },
 "nbformat": 4,
 "nbformat_minor": 2
}
