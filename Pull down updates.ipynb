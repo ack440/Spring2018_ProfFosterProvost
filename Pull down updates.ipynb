{
 "cells": [
  {
   "cell_type": "code",
   "execution_count": 16,
   "metadata": {},
   "outputs": [
    {
     "name": "stdout",
     "output_type": "stream",
     "text": [
      "Module4_Regularization/Regularization_Learning-curves_Normalization_and_Model_assessment_2018.ipynb: needs merge\r\n",
      "Module4_Regularization/dstools/__pycache__/__init__.cpython-35.pyc: needs merge\r\n",
      "Module4_Regularization/dstools/__pycache__/data_tools.cpython-35.pyc: needs merge\r\n",
      "Module4_Regularization/Regularization_Learning-curves_Normalization_and_Model_assessment_2018.ipynb: needs merge\r\n",
      "Module4_Regularization/dstools/__pycache__/__init__.cpython-35.pyc: needs merge\r\n",
      "Module4_Regularization/dstools/__pycache__/data_tools.cpython-35.pyc: needs merge\r\n",
      "Module4_Regularization/Regularization_Learning-curves_Normalization_and_Model_assessment_2018.ipynb: unmerged (5abca80eb3d6ba9fe898a0f871114cdecb567f3d)\r\n",
      "Module4_Regularization/Regularization_Learning-curves_Normalization_and_Model_assessment_2018.ipynb: unmerged (9bb935c044d85e7bf9672da0c7c2943a4752f9bf)\r\n",
      "Module4_Regularization/dstools/__pycache__/__init__.cpython-35.pyc: unmerged (28d54f765667ffe71fc04837966e5648277bd031)\r\n",
      "Module4_Regularization/dstools/__pycache__/__init__.cpython-35.pyc: unmerged (aa8bac9c89241378edc6af60d3abe5d16f37cfa8)\r\n",
      "Module4_Regularization/dstools/__pycache__/data_tools.cpython-35.pyc: unmerged (71c84a47edb76dfc25d0df11d28a4761b5c3d725)\r\n",
      "Module4_Regularization/dstools/__pycache__/data_tools.cpython-35.pyc: unmerged (9346fe12c302998d030c8d206ddd21db53dec8e7)\r\n",
      "fatal: git-write-tree: error building trees\r\n",
      "Cannot save the current index state\r\n"
     ]
    }
   ],
   "source": [
    "# running this cell updates the repository with any new content\n",
    "!git stash && git pull --rebase && git stash pop"
   ]
  },
  {
   "cell_type": "code",
   "execution_count": 15,
   "metadata": {},
   "outputs": [],
   "source": [
    "! git clean -f"
   ]
  },
  {
   "cell_type": "code",
   "execution_count": 18,
   "metadata": {},
   "outputs": [
    {
     "name": "stdout",
     "output_type": "stream",
     "text": [
      "Module4_Regularization/Regularization_Learning-curves_Normalization_and_Model_assessment_2018.ipynb: needs merge\r\n",
      "Module4_Regularization/dstools/__pycache__/__init__.cpython-35.pyc: needs merge\r\n",
      "Module4_Regularization/dstools/__pycache__/data_tools.cpython-35.pyc: needs merge\r\n",
      "rm 'Module4_Regularization/Regularization_Learning-curves_Normalization_and_Model_assessment_2018.ipynb'\r\n",
      "rm 'Module4_Regularization/Regularization_Learning-curves_Normalization_and_Model_assessment_2018.ipynb'\r\n",
      "rm 'Module4_Regularization/dstools/__pycache__/__init__.cpython-35.pyc'\r\n",
      "rm 'Module4_Regularization/dstools/__pycache__/__init__.cpython-35.pyc'\r\n",
      "rm 'Module4_Regularization/dstools/__pycache__/data_tools.cpython-35.pyc'\r\n",
      "rm 'Module4_Regularization/dstools/__pycache__/data_tools.cpython-35.pyc'\r\n"
     ]
    }
   ],
   "source": [
    "! git rm -r Module4_Regularization"
   ]
  }
 ],
 "metadata": {
  "kernelspec": {
   "display_name": "Python 3",
   "language": "python",
   "name": "python3"
  },
  "language_info": {
   "codemirror_mode": {
    "name": "ipython",
    "version": 3
   },
   "file_extension": ".py",
   "mimetype": "text/x-python",
   "name": "python",
   "nbconvert_exporter": "python",
   "pygments_lexer": "ipython3",
   "version": "3.5.2"
  }
 },
 "nbformat": 4,
 "nbformat_minor": 2
}
