{
 "cells": [
  {
   "cell_type": "code",
   "execution_count": 1,
   "metadata": {},
   "outputs": [
    {
     "name": "stdout",
     "output_type": "stream",
     "text": [
      "No local changes to save\n",
      "remote: Counting objects: 45, done.\u001b[K\n",
      "remote: Compressing objects: 100% (37/37), done.\u001b[K\n",
      "remote: Total 45 (delta 8), reused 44 (delta 7), pack-reused 0\u001b[K\n",
      "Unpacking objects: 100% (45/45), done.\n",
      "From https://github.com/nicholasg3/Spring2018_ProfFosterProvost\n",
      "   8c6bc75..3542f24  Spring2018_DM -> origin/Spring2018_DM\n",
      "First, rewinding head to replay your work on top of it...\n",
      "Fast-forwarded Spring2018_DM to 3542f24f9c2470d8fe4aef90a176038111c69d12.\n",
      "No stash found.\n"
     ]
    }
   ],
   "source": [
    "# running this cell updates the repository with any new content\n",
    "!git stash && git pull --rebase && git stash pop"
   ]
  },
  {
   "cell_type": "code",
   "execution_count": 2,
   "metadata": {},
   "outputs": [],
   "source": [
    "! git clean -f"
   ]
  },
  {
   "cell_type": "code",
   "execution_count": null,
   "metadata": {},
   "outputs": [],
   "source": []
  },
  {
   "cell_type": "code",
   "execution_count": null,
   "metadata": {},
   "outputs": [],
   "source": []
  }
 ],
 "metadata": {
  "kernelspec": {
   "display_name": "Python 3",
   "language": "python",
   "name": "python3"
  },
  "language_info": {
   "codemirror_mode": {
    "name": "ipython",
    "version": 3
   },
   "file_extension": ".py",
   "mimetype": "text/x-python",
   "name": "python",
   "nbconvert_exporter": "python",
   "pygments_lexer": "ipython3",
   "version": "3.5.2"
  }
 },
 "nbformat": 4,
 "nbformat_minor": 2
}
