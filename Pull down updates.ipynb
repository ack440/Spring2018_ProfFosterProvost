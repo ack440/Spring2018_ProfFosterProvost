{
 "cells": [
  {
   "cell_type": "code",
   "execution_count": 1,
   "metadata": {},
   "outputs": [
    {
     "name": "stdout",
     "output_type": "stream",
     "text": [
      "Saved working directory and index state WIP on Spring2018_DM: 63cc2c9 changed header in mod 05\n",
      "HEAD is now at 63cc2c9 changed header in mod 05\n",
      "remote: Counting objects: 7, done.\u001b[K\n",
      "remote: Compressing objects: 100% (7/7), done.\u001b[K\n",
      "remote: Total 7 (delta 0), reused 0 (delta 0), pack-reused 0\u001b[K\n",
      "Unpacking objects: 100% (7/7), done.\n",
      "From https://github.com/nicholasg3/Spring2018_ProfFosterProvost\n",
      "   63cc2c9..8193b2c  Spring2018_DM -> origin/Spring2018_DM\n",
      "First, rewinding head to replay your work on top of it...\n",
      "Fast-forwarded Spring2018_DM to 8193b2cfc0a5be2eeaa4d00970f48a58a04ac112.\n",
      "On branch Spring2018_DM\n",
      "Your branch is up-to-date with 'origin/Spring2018_DM'.\n",
      "Changes not staged for commit:\n",
      "  (use \"git add <file>...\" to update what will be committed)\n",
      "  (use \"git checkout -- <file>...\" to discard changes in working directory)\n",
      "\n",
      "\t\u001b[31mmodified:   Module3_Fitting_CrossVal/Fitting and Overfitting.ipynb\u001b[m\n",
      "\t\u001b[31mmodified:   Module3_Fitting_CrossVal/dstools/__pycache__/__init__.cpython-35.pyc\u001b[m\n",
      "\t\u001b[31mmodified:   Module3_Fitting_CrossVal/dstools/__pycache__/data_tools.cpython-35.pyc\u001b[m\n",
      "\t\u001b[31mmodified:   Module4_Regularization/Regularization_and_Model_assessment.ipynb\u001b[m\n",
      "\t\u001b[31mmodified:   Module4_Regularization/dstools/__pycache__/__init__.cpython-35.pyc\u001b[m\n",
      "\t\u001b[31mmodified:   Module4_Regularization/dstools/__pycache__/data_tools.cpython-35.pyc\u001b[m\n",
      "\t\u001b[31mmodified:   Module5_ROC_Cost_Visualization/LinearModels_Trees.ipynb\u001b[m\n",
      "\t\u001b[31mmodified:   Module5_ROC_Cost_Visualization/ROC_LIFT_costs_Model_assessment_2018.ipynb\u001b[m\n",
      "\t\u001b[31mmodified:   Module6_Text_NaiveBayes/Dealing_with_text_Naive_Bayes_2018.ipynb\u001b[m\n",
      "\n",
      "Untracked files:\n",
      "  (use \"git add <file>...\" to include in what will be committed)\n",
      "\n",
      "\t\u001b[31mModule6_Text_NaiveBayes/Scratch-paper.ipynb\u001b[m\n",
      "\t\u001b[31mModule6_Text_NaiveBayes/Text-mining-and-NLTK.ipynb\u001b[m\n",
      "\t\u001b[31mModule6_Text_NaiveBayes/untitled.txt\u001b[m\n",
      "\n",
      "no changes added to commit (use \"git add\" and/or \"git commit -a\")\n",
      "Dropped refs/stash@{0} (753b422d193d6c2743a2b5eaab9ec4a303795f54)\n"
     ]
    }
   ],
   "source": [
    "# running this cell updates the repository with any new content\n",
    "!git stash && git pull --rebase && git stash pop"
   ]
  },
  {
   "cell_type": "code",
   "execution_count": 2,
   "metadata": {},
   "outputs": [
    {
     "name": "stdout",
     "output_type": "stream",
     "text": [
      "Removing Module6_Text_NaiveBayes/Scratch-paper.ipynb\r\n",
      "Removing Module6_Text_NaiveBayes/Text-mining-and-NLTK.ipynb\r\n",
      "Removing Module6_Text_NaiveBayes/untitled.txt\r\n"
     ]
    }
   ],
   "source": [
    "! git clean -f"
   ]
  },
  {
   "cell_type": "code",
   "execution_count": null,
   "metadata": {},
   "outputs": [],
   "source": []
  },
  {
   "cell_type": "code",
   "execution_count": null,
   "metadata": {},
   "outputs": [],
   "source": []
  }
 ],
 "metadata": {
  "kernelspec": {
   "display_name": "Python 3",
   "language": "python",
   "name": "python3"
  },
  "language_info": {
   "codemirror_mode": {
    "name": "ipython",
    "version": 3
   },
   "file_extension": ".py",
   "mimetype": "text/x-python",
   "name": "python",
   "nbconvert_exporter": "python",
   "pygments_lexer": "ipython3",
   "version": "3.5.2"
  }
 },
 "nbformat": 4,
 "nbformat_minor": 2
}
