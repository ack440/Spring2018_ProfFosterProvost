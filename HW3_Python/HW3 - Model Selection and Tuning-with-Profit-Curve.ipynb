{
 "cells": [
  {
   "cell_type": "markdown",
   "metadata": {},
   "source": [
    "# Your Name: _________"
   ]
  },
  {
   "cell_type": "markdown",
   "metadata": {},
   "source": [
    "# Homework 3\n",
    "## Model Selection and Tuning"
   ]
  },
  {
   "cell_type": "markdown",
   "metadata": {},
   "source": [
    "This exercise should guide you through performing a predictive modeling analysis.  You will choose a model type, set critical complexity parameters, and apply it to select prospects for a direct mailing charity campaign.  If you get stuck, please ask questions on the discussion forum – it’s likely that other students are running into the same issues!!"
   ]
  },
  {
   "cell_type": "markdown",
   "metadata": {},
   "source": [
    "Mailing marketing offers can be costly.  We want to send out solicitations for donations; each solicitation costs us a small amount.  Under NYU Classes->Resources->Data->Homework 3 Mailing you will find two data files from our problem.  The files are mailing_test.arff and mailing_train.arff. \n",
    "\n",
    "You can also find these two files in this repository's \"data\" folder."
   ]
  },
  {
   "cell_type": "markdown",
   "metadata": {},
   "source": [
    "You will analyze (at least) three algorithms for these data: tree induction, logistic regression, and any other method of your choice.  Your ultimate goal is to build the ‘best’ model given the data and to do some analytics on the model.  You have a budget of $3000, and you will decide how to spend that on targeting. "
   ]
  },
  {
   "cell_type": "markdown",
   "metadata": {},
   "source": [
    "In this data set if `TARGET_B = 1` the person donated, otherwise, they did not donate."
   ]
  },
  {
   "cell_type": "markdown",
   "metadata": {},
   "source": [
    "### Loading Data\n",
    "Load and/or install the following packages:\n",
    "- `liac-arff`"
   ]
  },
  {
   "cell_type": "code",
   "execution_count": 1,
   "metadata": {},
   "outputs": [],
   "source": [
    "# for example\n",
    "#! sudo pip install liac-arff"
   ]
  },
  {
   "cell_type": "code",
   "execution_count": 2,
   "metadata": {
    "collapsed": true
   },
   "outputs": [],
   "source": [
    "import arff\n",
    "\n",
    "import pandas as pd\n",
    "import numpy as np\n",
    "import matplotlib.pyplot as plt\n",
    "import warnings\n",
    "warnings.filterwarnings('ignore')"
   ]
  },
  {
   "cell_type": "markdown",
   "metadata": {},
   "source": [
    "Load mailing_train.arff.\n",
    "(see documentation [here](https://pypi.python.org/pypi/liac-arff))"
   ]
  },
  {
   "cell_type": "code",
   "execution_count": 3,
   "metadata": {
    "collapsed": true
   },
   "outputs": [],
   "source": [
    "mailing_data_train = arff.load(open('data/mailing_train.arff'))\n",
    "mailing_data_test = arff.load(open('data/mailing_test.arff'))"
   ]
  },
  {
   "cell_type": "markdown",
   "metadata": {},
   "source": [
    "Load the data into a pandas dataframe and use \"head\" to look at the data."
   ]
  },
  {
   "cell_type": "code",
   "execution_count": 4,
   "metadata": {},
   "outputs": [
    {
     "data": {
      "text/html": [
       "<div>\n",
       "<style scoped>\n",
       "    .dataframe tbody tr th:only-of-type {\n",
       "        vertical-align: middle;\n",
       "    }\n",
       "\n",
       "    .dataframe tbody tr th {\n",
       "        vertical-align: top;\n",
       "    }\n",
       "\n",
       "    .dataframe thead th {\n",
       "        text-align: right;\n",
       "    }\n",
       "</style>\n",
       "<table border=\"1\" class=\"dataframe\">\n",
       "  <thead>\n",
       "    <tr style=\"text-align: right;\">\n",
       "      <th></th>\n",
       "      <th>0</th>\n",
       "      <th>1</th>\n",
       "      <th>2</th>\n",
       "      <th>3</th>\n",
       "      <th>4</th>\n",
       "      <th>5</th>\n",
       "      <th>6</th>\n",
       "      <th>7</th>\n",
       "      <th>8</th>\n",
       "      <th>9</th>\n",
       "      <th>...</th>\n",
       "      <th>18</th>\n",
       "      <th>19</th>\n",
       "      <th>20</th>\n",
       "      <th>21</th>\n",
       "      <th>22</th>\n",
       "      <th>23</th>\n",
       "      <th>24</th>\n",
       "      <th>25</th>\n",
       "      <th>26</th>\n",
       "      <th>27</th>\n",
       "    </tr>\n",
       "  </thead>\n",
       "  <tbody>\n",
       "    <tr>\n",
       "      <th>0</th>\n",
       "      <td>AL</td>\n",
       "      <td>T2</td>\n",
       "      <td>NaN</td>\n",
       "      <td>H</td>\n",
       "      <td>NaN</td>\n",
       "      <td>5</td>\n",
       "      <td>F</td>\n",
       "      <td>None</td>\n",
       "      <td>0.0</td>\n",
       "      <td>NaN</td>\n",
       "      <td>...</td>\n",
       "      <td>NaN</td>\n",
       "      <td>NaN</td>\n",
       "      <td>NaN</td>\n",
       "      <td>NaN</td>\n",
       "      <td>NaN</td>\n",
       "      <td></td>\n",
       "      <td>X</td>\n",
       "      <td>12.0</td>\n",
       "      <td>6.0</td>\n",
       "      <td>0</td>\n",
       "    </tr>\n",
       "    <tr>\n",
       "      <th>1</th>\n",
       "      <td>CA</td>\n",
       "      <td></td>\n",
       "      <td>79.0</td>\n",
       "      <td></td>\n",
       "      <td>NaN</td>\n",
       "      <td>None</td>\n",
       "      <td>F</td>\n",
       "      <td>None</td>\n",
       "      <td>0.0</td>\n",
       "      <td>NaN</td>\n",
       "      <td>...</td>\n",
       "      <td>NaN</td>\n",
       "      <td>NaN</td>\n",
       "      <td>NaN</td>\n",
       "      <td>NaN</td>\n",
       "      <td>NaN</td>\n",
       "      <td></td>\n",
       "      <td>X</td>\n",
       "      <td>28.0</td>\n",
       "      <td>20.0</td>\n",
       "      <td>0</td>\n",
       "    </tr>\n",
       "    <tr>\n",
       "      <th>2</th>\n",
       "      <td>FL</td>\n",
       "      <td>S1</td>\n",
       "      <td>86.0</td>\n",
       "      <td>H</td>\n",
       "      <td>NaN</td>\n",
       "      <td>7</td>\n",
       "      <td>M</td>\n",
       "      <td>9</td>\n",
       "      <td>1.0</td>\n",
       "      <td>0.0</td>\n",
       "      <td>...</td>\n",
       "      <td>0.0</td>\n",
       "      <td>0.0</td>\n",
       "      <td>0.0</td>\n",
       "      <td>0.0</td>\n",
       "      <td>0.0</td>\n",
       "      <td></td>\n",
       "      <td>X</td>\n",
       "      <td>14.0</td>\n",
       "      <td>37.0</td>\n",
       "      <td>0</td>\n",
       "    </tr>\n",
       "    <tr>\n",
       "      <th>3</th>\n",
       "      <td>MO</td>\n",
       "      <td>T2</td>\n",
       "      <td>25.0</td>\n",
       "      <td>U</td>\n",
       "      <td>NaN</td>\n",
       "      <td>1</td>\n",
       "      <td>M</td>\n",
       "      <td>4</td>\n",
       "      <td>0.0</td>\n",
       "      <td>NaN</td>\n",
       "      <td>...</td>\n",
       "      <td>NaN</td>\n",
       "      <td>NaN</td>\n",
       "      <td>NaN</td>\n",
       "      <td>NaN</td>\n",
       "      <td>NaN</td>\n",
       "      <td></td>\n",
       "      <td></td>\n",
       "      <td>7.0</td>\n",
       "      <td>6.0</td>\n",
       "      <td>0</td>\n",
       "    </tr>\n",
       "    <tr>\n",
       "      <th>4</th>\n",
       "      <td>CA</td>\n",
       "      <td>U2</td>\n",
       "      <td>69.0</td>\n",
       "      <td>U</td>\n",
       "      <td>NaN</td>\n",
       "      <td>3</td>\n",
       "      <td>F</td>\n",
       "      <td>3</td>\n",
       "      <td>5.0</td>\n",
       "      <td>0.0</td>\n",
       "      <td>...</td>\n",
       "      <td>2.0</td>\n",
       "      <td>0.0</td>\n",
       "      <td>0.0</td>\n",
       "      <td>0.0</td>\n",
       "      <td>0.0</td>\n",
       "      <td></td>\n",
       "      <td>X</td>\n",
       "      <td>22.0</td>\n",
       "      <td>11.0</td>\n",
       "      <td>0</td>\n",
       "    </tr>\n",
       "  </tbody>\n",
       "</table>\n",
       "<p>5 rows × 28 columns</p>\n",
       "</div>"
      ],
      "text/plain": [
       "   0   1     2  3   4     5  6     7    8    9  ...   18   19   20   21   22  \\\n",
       "0  AL  T2   NaN  H NaN     5  F  None  0.0  NaN ...  NaN  NaN  NaN  NaN  NaN   \n",
       "1  CA      79.0    NaN  None  F  None  0.0  NaN ...  NaN  NaN  NaN  NaN  NaN   \n",
       "2  FL  S1  86.0  H NaN     7  M     9  1.0  0.0 ...  0.0  0.0  0.0  0.0  0.0   \n",
       "3  MO  T2  25.0  U NaN     1  M     4  0.0  NaN ...  NaN  NaN  NaN  NaN  NaN   \n",
       "4  CA  U2  69.0  U NaN     3  F     3  5.0  0.0 ...  2.0  0.0  0.0  0.0  0.0   \n",
       "\n",
       "   23  24    25    26  27  \n",
       "0       X  12.0   6.0   0  \n",
       "1       X  28.0  20.0   0  \n",
       "2       X  14.0  37.0   0  \n",
       "3           7.0   6.0   0  \n",
       "4       X  22.0  11.0   0  \n",
       "\n",
       "[5 rows x 28 columns]"
      ]
     },
     "execution_count": 4,
     "metadata": {},
     "output_type": "execute_result"
    }
   ],
   "source": [
    "train_df = pd.DataFrame(mailing_data_train['data'])\n",
    "test_df = pd.DataFrame(mailing_data_test['data'])\n",
    "train_df.head()"
   ]
  },
  {
   "cell_type": "code",
   "execution_count": 5,
   "metadata": {},
   "outputs": [
    {
     "data": {
      "text/html": [
       "<div>\n",
       "<style scoped>\n",
       "    .dataframe tbody tr th:only-of-type {\n",
       "        vertical-align: middle;\n",
       "    }\n",
       "\n",
       "    .dataframe tbody tr th {\n",
       "        vertical-align: top;\n",
       "    }\n",
       "\n",
       "    .dataframe thead th {\n",
       "        text-align: right;\n",
       "    }\n",
       "</style>\n",
       "<table border=\"1\" class=\"dataframe\">\n",
       "  <thead>\n",
       "    <tr style=\"text-align: right;\">\n",
       "      <th></th>\n",
       "      <th>STATE</th>\n",
       "      <th>DOMAIN</th>\n",
       "      <th>AGE</th>\n",
       "      <th>HOMEOWNR</th>\n",
       "      <th>NUMCHLD</th>\n",
       "      <th>INCOME</th>\n",
       "      <th>GENDER</th>\n",
       "      <th>WEALTH1</th>\n",
       "      <th>HIT</th>\n",
       "      <th>MBCRAFT</th>\n",
       "      <th>...</th>\n",
       "      <th>PUBHLTH</th>\n",
       "      <th>PUBDOITY</th>\n",
       "      <th>PUBNEWFN</th>\n",
       "      <th>PUBPHOTO</th>\n",
       "      <th>PUBOPP</th>\n",
       "      <th>MAJOR</th>\n",
       "      <th>PEPSTRFL</th>\n",
       "      <th>NUMPRM12</th>\n",
       "      <th>NGIFTALL</th>\n",
       "      <th>TARGET_B</th>\n",
       "    </tr>\n",
       "  </thead>\n",
       "  <tbody>\n",
       "    <tr>\n",
       "      <th>0</th>\n",
       "      <td>AL</td>\n",
       "      <td>T2</td>\n",
       "      <td>NaN</td>\n",
       "      <td>H</td>\n",
       "      <td>NaN</td>\n",
       "      <td>5</td>\n",
       "      <td>F</td>\n",
       "      <td>None</td>\n",
       "      <td>0.0</td>\n",
       "      <td>NaN</td>\n",
       "      <td>...</td>\n",
       "      <td>NaN</td>\n",
       "      <td>NaN</td>\n",
       "      <td>NaN</td>\n",
       "      <td>NaN</td>\n",
       "      <td>NaN</td>\n",
       "      <td></td>\n",
       "      <td>X</td>\n",
       "      <td>12.0</td>\n",
       "      <td>6.0</td>\n",
       "      <td>0</td>\n",
       "    </tr>\n",
       "    <tr>\n",
       "      <th>1</th>\n",
       "      <td>CA</td>\n",
       "      <td></td>\n",
       "      <td>79.0</td>\n",
       "      <td></td>\n",
       "      <td>NaN</td>\n",
       "      <td>None</td>\n",
       "      <td>F</td>\n",
       "      <td>None</td>\n",
       "      <td>0.0</td>\n",
       "      <td>NaN</td>\n",
       "      <td>...</td>\n",
       "      <td>NaN</td>\n",
       "      <td>NaN</td>\n",
       "      <td>NaN</td>\n",
       "      <td>NaN</td>\n",
       "      <td>NaN</td>\n",
       "      <td></td>\n",
       "      <td>X</td>\n",
       "      <td>28.0</td>\n",
       "      <td>20.0</td>\n",
       "      <td>0</td>\n",
       "    </tr>\n",
       "    <tr>\n",
       "      <th>2</th>\n",
       "      <td>FL</td>\n",
       "      <td>S1</td>\n",
       "      <td>86.0</td>\n",
       "      <td>H</td>\n",
       "      <td>NaN</td>\n",
       "      <td>7</td>\n",
       "      <td>M</td>\n",
       "      <td>9</td>\n",
       "      <td>1.0</td>\n",
       "      <td>0.0</td>\n",
       "      <td>...</td>\n",
       "      <td>0.0</td>\n",
       "      <td>0.0</td>\n",
       "      <td>0.0</td>\n",
       "      <td>0.0</td>\n",
       "      <td>0.0</td>\n",
       "      <td></td>\n",
       "      <td>X</td>\n",
       "      <td>14.0</td>\n",
       "      <td>37.0</td>\n",
       "      <td>0</td>\n",
       "    </tr>\n",
       "    <tr>\n",
       "      <th>3</th>\n",
       "      <td>MO</td>\n",
       "      <td>T2</td>\n",
       "      <td>25.0</td>\n",
       "      <td>U</td>\n",
       "      <td>NaN</td>\n",
       "      <td>1</td>\n",
       "      <td>M</td>\n",
       "      <td>4</td>\n",
       "      <td>0.0</td>\n",
       "      <td>NaN</td>\n",
       "      <td>...</td>\n",
       "      <td>NaN</td>\n",
       "      <td>NaN</td>\n",
       "      <td>NaN</td>\n",
       "      <td>NaN</td>\n",
       "      <td>NaN</td>\n",
       "      <td></td>\n",
       "      <td></td>\n",
       "      <td>7.0</td>\n",
       "      <td>6.0</td>\n",
       "      <td>0</td>\n",
       "    </tr>\n",
       "    <tr>\n",
       "      <th>4</th>\n",
       "      <td>CA</td>\n",
       "      <td>U2</td>\n",
       "      <td>69.0</td>\n",
       "      <td>U</td>\n",
       "      <td>NaN</td>\n",
       "      <td>3</td>\n",
       "      <td>F</td>\n",
       "      <td>3</td>\n",
       "      <td>5.0</td>\n",
       "      <td>0.0</td>\n",
       "      <td>...</td>\n",
       "      <td>2.0</td>\n",
       "      <td>0.0</td>\n",
       "      <td>0.0</td>\n",
       "      <td>0.0</td>\n",
       "      <td>0.0</td>\n",
       "      <td></td>\n",
       "      <td>X</td>\n",
       "      <td>22.0</td>\n",
       "      <td>11.0</td>\n",
       "      <td>0</td>\n",
       "    </tr>\n",
       "  </tbody>\n",
       "</table>\n",
       "<p>5 rows × 28 columns</p>\n",
       "</div>"
      ],
      "text/plain": [
       "  STATE DOMAIN   AGE HOMEOWNR  NUMCHLD INCOME GENDER WEALTH1  HIT  MBCRAFT  \\\n",
       "0    AL     T2   NaN        H      NaN      5      F    None  0.0      NaN   \n",
       "1    CA         79.0               NaN   None      F    None  0.0      NaN   \n",
       "2    FL     S1  86.0        H      NaN      7      M       9  1.0      0.0   \n",
       "3    MO     T2  25.0        U      NaN      1      M       4  0.0      NaN   \n",
       "4    CA     U2  69.0        U      NaN      3      F       3  5.0      0.0   \n",
       "\n",
       "     ...     PUBHLTH  PUBDOITY  PUBNEWFN  PUBPHOTO  PUBOPP  MAJOR  PEPSTRFL  \\\n",
       "0    ...         NaN       NaN       NaN       NaN     NaN                X   \n",
       "1    ...         NaN       NaN       NaN       NaN     NaN                X   \n",
       "2    ...         0.0       0.0       0.0       0.0     0.0                X   \n",
       "3    ...         NaN       NaN       NaN       NaN     NaN                    \n",
       "4    ...         2.0       0.0       0.0       0.0     0.0                X   \n",
       "\n",
       "   NUMPRM12  NGIFTALL  TARGET_B  \n",
       "0      12.0       6.0         0  \n",
       "1      28.0      20.0         0  \n",
       "2      14.0      37.0         0  \n",
       "3       7.0       6.0         0  \n",
       "4      22.0      11.0         0  \n",
       "\n",
       "[5 rows x 28 columns]"
      ]
     },
     "execution_count": 5,
     "metadata": {},
     "output_type": "execute_result"
    }
   ],
   "source": [
    "# give the columns their proper names\n",
    "a = mailing_data_train['attributes']\n",
    "train_df.columns = [i[0] for i in a] \n",
    "test_df.columns = [i[0] for i in a] \n",
    "train_df.head()"
   ]
  },
  {
   "cell_type": "markdown",
   "metadata": {},
   "source": [
    "### Missing Values\n",
    "There seem to be many missing values (NaN). We will use the built-in feature [.dropna()](https://pandas.pydata.org/pandas-docs/stable/generated/pandas.DataFrame.dropna.html) in Pandas to drop any rows with missing values. Dropping NA's is not necessarily the best thing to do in practice, but that is a topic for another day."
   ]
  },
  {
   "cell_type": "code",
   "execution_count": 6,
   "metadata": {},
   "outputs": [
    {
     "name": "stdout",
     "output_type": "stream",
     "text": [
      "original number of rows: \t18160\n",
      "New number of rows: \t \t1295\n"
     ]
    }
   ],
   "source": [
    "train_df_no_nas = train_df.dropna()\n",
    "test_df_no_nas = test_df.dropna()\n",
    "\n",
    "print(\"original number of rows: \\t\" + str(train_df.shape[0]))\n",
    "print(\"New number of rows: \\t \\t\" + str(train_df_no_nas.shape[0]))"
   ]
  },
  {
   "cell_type": "markdown",
   "metadata": {},
   "source": [
    "That seems to throw away a lot of data, let's drop columns with Na's instead."
   ]
  },
  {
   "cell_type": "code",
   "execution_count": 7,
   "metadata": {
    "collapsed": true
   },
   "outputs": [],
   "source": [
    "# train_df_no_nas = train_df.dropna(axis=1)\n",
    "\n",
    "# # make sure the test data has the same columns\n",
    "# test_df_no_nas = test_df[np.array(train_df_no_nas.columns)]\n",
    "\n",
    "# print(\"original number of cols: \\t\" + str(train_df.shape[1]))\n",
    "# print(\"New number of cols: \\t \\t\" + str(train_df_no_nas.shape[1]))"
   ]
  },
  {
   "cell_type": "markdown",
   "metadata": {},
   "source": [
    "Since you have a fixed budget, you’ll be ranking the instances based on their predicted probability of donation.  This will maximize the expected number of donations for the $3000 budget.  Therefore, be sure to compare the “ROC Area” measure that we discussed in class."
   ]
  },
  {
   "cell_type": "markdown",
   "metadata": {},
   "source": [
    "SK Learn's algorithms cannot easily handle categorical data, so convert each categorical feature into a series of binary \"dummy\" variables"
   ]
  },
  {
   "cell_type": "code",
   "execution_count": 8,
   "metadata": {},
   "outputs": [
    {
     "data": {
      "text/html": [
       "<div>\n",
       "<style scoped>\n",
       "    .dataframe tbody tr th:only-of-type {\n",
       "        vertical-align: middle;\n",
       "    }\n",
       "\n",
       "    .dataframe tbody tr th {\n",
       "        vertical-align: top;\n",
       "    }\n",
       "\n",
       "    .dataframe thead th {\n",
       "        text-align: right;\n",
       "    }\n",
       "</style>\n",
       "<table border=\"1\" class=\"dataframe\">\n",
       "  <thead>\n",
       "    <tr style=\"text-align: right;\">\n",
       "      <th></th>\n",
       "      <th>AGE</th>\n",
       "      <th>NUMCHLD</th>\n",
       "      <th>HIT</th>\n",
       "      <th>MBCRAFT</th>\n",
       "      <th>MBGARDEN</th>\n",
       "      <th>MBBOOKS</th>\n",
       "      <th>MBCOLECT</th>\n",
       "      <th>MAGFAML</th>\n",
       "      <th>MAGFEM</th>\n",
       "      <th>MAGMALE</th>\n",
       "      <th>...</th>\n",
       "      <th>WEALTH1_3</th>\n",
       "      <th>WEALTH1_4</th>\n",
       "      <th>WEALTH1_5</th>\n",
       "      <th>WEALTH1_6</th>\n",
       "      <th>WEALTH1_7</th>\n",
       "      <th>WEALTH1_8</th>\n",
       "      <th>WEALTH1_9</th>\n",
       "      <th>MAJOR_</th>\n",
       "      <th>PEPSTRFL_</th>\n",
       "      <th>PEPSTRFL_X</th>\n",
       "    </tr>\n",
       "  </thead>\n",
       "  <tbody>\n",
       "    <tr>\n",
       "      <th>20</th>\n",
       "      <td>41.0</td>\n",
       "      <td>3.0</td>\n",
       "      <td>5.0</td>\n",
       "      <td>1.0</td>\n",
       "      <td>0.0</td>\n",
       "      <td>1.0</td>\n",
       "      <td>0.0</td>\n",
       "      <td>0.0</td>\n",
       "      <td>0.0</td>\n",
       "      <td>0.0</td>\n",
       "      <td>...</td>\n",
       "      <td>0</td>\n",
       "      <td>0</td>\n",
       "      <td>0</td>\n",
       "      <td>0</td>\n",
       "      <td>0</td>\n",
       "      <td>0</td>\n",
       "      <td>0</td>\n",
       "      <td>1</td>\n",
       "      <td>1</td>\n",
       "      <td>0</td>\n",
       "    </tr>\n",
       "    <tr>\n",
       "      <th>71</th>\n",
       "      <td>44.0</td>\n",
       "      <td>1.0</td>\n",
       "      <td>3.0</td>\n",
       "      <td>0.0</td>\n",
       "      <td>0.0</td>\n",
       "      <td>0.0</td>\n",
       "      <td>0.0</td>\n",
       "      <td>0.0</td>\n",
       "      <td>0.0</td>\n",
       "      <td>0.0</td>\n",
       "      <td>...</td>\n",
       "      <td>0</td>\n",
       "      <td>0</td>\n",
       "      <td>0</td>\n",
       "      <td>1</td>\n",
       "      <td>0</td>\n",
       "      <td>0</td>\n",
       "      <td>0</td>\n",
       "      <td>1</td>\n",
       "      <td>1</td>\n",
       "      <td>0</td>\n",
       "    </tr>\n",
       "    <tr>\n",
       "      <th>92</th>\n",
       "      <td>48.0</td>\n",
       "      <td>4.0</td>\n",
       "      <td>1.0</td>\n",
       "      <td>0.0</td>\n",
       "      <td>0.0</td>\n",
       "      <td>0.0</td>\n",
       "      <td>0.0</td>\n",
       "      <td>0.0</td>\n",
       "      <td>1.0</td>\n",
       "      <td>0.0</td>\n",
       "      <td>...</td>\n",
       "      <td>0</td>\n",
       "      <td>0</td>\n",
       "      <td>0</td>\n",
       "      <td>0</td>\n",
       "      <td>0</td>\n",
       "      <td>1</td>\n",
       "      <td>0</td>\n",
       "      <td>1</td>\n",
       "      <td>0</td>\n",
       "      <td>1</td>\n",
       "    </tr>\n",
       "    <tr>\n",
       "      <th>94</th>\n",
       "      <td>43.0</td>\n",
       "      <td>2.0</td>\n",
       "      <td>1.0</td>\n",
       "      <td>0.0</td>\n",
       "      <td>0.0</td>\n",
       "      <td>0.0</td>\n",
       "      <td>0.0</td>\n",
       "      <td>0.0</td>\n",
       "      <td>0.0</td>\n",
       "      <td>0.0</td>\n",
       "      <td>...</td>\n",
       "      <td>0</td>\n",
       "      <td>0</td>\n",
       "      <td>0</td>\n",
       "      <td>0</td>\n",
       "      <td>0</td>\n",
       "      <td>1</td>\n",
       "      <td>0</td>\n",
       "      <td>1</td>\n",
       "      <td>1</td>\n",
       "      <td>0</td>\n",
       "    </tr>\n",
       "    <tr>\n",
       "      <th>112</th>\n",
       "      <td>63.0</td>\n",
       "      <td>1.0</td>\n",
       "      <td>1.0</td>\n",
       "      <td>0.0</td>\n",
       "      <td>0.0</td>\n",
       "      <td>0.0</td>\n",
       "      <td>1.0</td>\n",
       "      <td>0.0</td>\n",
       "      <td>0.0</td>\n",
       "      <td>0.0</td>\n",
       "      <td>...</td>\n",
       "      <td>0</td>\n",
       "      <td>0</td>\n",
       "      <td>0</td>\n",
       "      <td>0</td>\n",
       "      <td>0</td>\n",
       "      <td>0</td>\n",
       "      <td>1</td>\n",
       "      <td>1</td>\n",
       "      <td>0</td>\n",
       "      <td>1</td>\n",
       "    </tr>\n",
       "  </tbody>\n",
       "</table>\n",
       "<p>5 rows × 104 columns</p>\n",
       "</div>"
      ],
      "text/plain": [
       "      AGE  NUMCHLD  HIT  MBCRAFT  MBGARDEN  MBBOOKS  MBCOLECT  MAGFAML  \\\n",
       "20   41.0      3.0  5.0      1.0       0.0      1.0       0.0      0.0   \n",
       "71   44.0      1.0  3.0      0.0       0.0      0.0       0.0      0.0   \n",
       "92   48.0      4.0  1.0      0.0       0.0      0.0       0.0      0.0   \n",
       "94   43.0      2.0  1.0      0.0       0.0      0.0       0.0      0.0   \n",
       "112  63.0      1.0  1.0      0.0       0.0      0.0       1.0      0.0   \n",
       "\n",
       "     MAGFEM  MAGMALE     ...      WEALTH1_3  WEALTH1_4  WEALTH1_5  WEALTH1_6  \\\n",
       "20      0.0      0.0     ...              0          0          0          0   \n",
       "71      0.0      0.0     ...              0          0          0          1   \n",
       "92      1.0      0.0     ...              0          0          0          0   \n",
       "94      0.0      0.0     ...              0          0          0          0   \n",
       "112     0.0      0.0     ...              0          0          0          0   \n",
       "\n",
       "     WEALTH1_7  WEALTH1_8  WEALTH1_9  MAJOR_   PEPSTRFL_   PEPSTRFL_X  \n",
       "20           0          0          0        1           1           0  \n",
       "71           0          0          0        1           1           0  \n",
       "92           0          1          0        1           0           1  \n",
       "94           0          1          0        1           1           0  \n",
       "112          0          0          1        1           0           1  \n",
       "\n",
       "[5 rows x 104 columns]"
      ]
     },
     "execution_count": 8,
     "metadata": {},
     "output_type": "execute_result"
    }
   ],
   "source": [
    "X = train_df_no_nas.loc[:, train_df_no_nas.columns != 'TARGET_B']\n",
    "Y = pd.to_numeric(train_df_no_nas[\"TARGET_B\"])\n",
    "X = pd.get_dummies(X)\n",
    "X.head()"
   ]
  },
  {
   "cell_type": "markdown",
   "metadata": {},
   "source": [
    "## Choosing a Model\n",
    "Build the best model you can by changing the complexity paraemters for each of the following three model types, in terms of their generalization performance using ROC Area (you can use a 66% train/test split for this to save time):"
   ]
  },
  {
   "cell_type": "markdown",
   "metadata": {},
   "source": [
    "### Trees\n",
    "Look at the documentation for decision tree classifies [here](http://scikit-learn.org/stable/modules/generated/sklearn.tree.DecisionTreeClassifier.html) and decide which complexity parameter to tune - min_samples_split, or min_samples_leaf.\n",
    "\n",
    "Display a table showing the AUC over a range of your chosen complexity parameter.\n",
    "\n",
    "I have done it for max_depth already. **Choose a different complexity parameter to use to find the best validation performance of the tree.**"
   ]
  },
  {
   "cell_type": "code",
   "execution_count": 9,
   "metadata": {
    "collapsed": true
   },
   "outputs": [],
   "source": [
    "from sklearn.tree import DecisionTreeClassifier\n",
    "from sklearn.model_selection import cross_val_score # for AUC scores\n",
    "\n",
    "\n",
    "# for example, using max_depth\n",
    "complexity_param = \"max_depth\"\n",
    "\n",
    "# create an empty list to hold the cross validation scores\n",
    "accuracies_cross_validation = []\n",
    "\n",
    "# Model\n",
    "#number of folds for cross validation\n",
    "n_folds = 3\n",
    "\n",
    "param_range = range(1,10)\n",
    "for param in param_range:\n",
    "    model_Tree = DecisionTreeClassifier(max_depth = param) ### BE SURE TO CHANGE THIS!\n",
    "    AUC = np.mean(cross_val_score(model_Tree, X, Y,cv=n_folds))\n",
    "    accuracies_cross_validation.append(AUC)\n",
    "    #print(complexity_param + \" = \" + str(param) + \", AUC = \" + str(AUC))"
   ]
  },
  {
   "cell_type": "markdown",
   "metadata": {},
   "source": [
    "Provide Charts and graphs to support your choice of complexity parameter"
   ]
  },
  {
   "cell_type": "code",
   "execution_count": 10,
   "metadata": {},
   "outputs": [
    {
     "data": {
      "text/html": [
       "<div>\n",
       "<style scoped>\n",
       "    .dataframe tbody tr th:only-of-type {\n",
       "        vertical-align: middle;\n",
       "    }\n",
       "\n",
       "    .dataframe tbody tr th {\n",
       "        vertical-align: top;\n",
       "    }\n",
       "\n",
       "    .dataframe thead th {\n",
       "        text-align: right;\n",
       "    }\n",
       "</style>\n",
       "<table border=\"1\" class=\"dataframe\">\n",
       "  <thead>\n",
       "    <tr style=\"text-align: right;\">\n",
       "      <th></th>\n",
       "      <th>max_depth</th>\n",
       "      <th>AUC</th>\n",
       "    </tr>\n",
       "  </thead>\n",
       "  <tbody>\n",
       "    <tr>\n",
       "      <th>0</th>\n",
       "      <td>1</td>\n",
       "      <td>0.791511</td>\n",
       "    </tr>\n",
       "    <tr>\n",
       "      <th>1</th>\n",
       "      <td>2</td>\n",
       "      <td>0.797689</td>\n",
       "    </tr>\n",
       "    <tr>\n",
       "      <th>2</th>\n",
       "      <td>3</td>\n",
       "      <td>0.789962</td>\n",
       "    </tr>\n",
       "    <tr>\n",
       "      <th>3</th>\n",
       "      <td>4</td>\n",
       "      <td>0.789971</td>\n",
       "    </tr>\n",
       "    <tr>\n",
       "      <th>4</th>\n",
       "      <td>5</td>\n",
       "      <td>0.785338</td>\n",
       "    </tr>\n",
       "    <tr>\n",
       "      <th>5</th>\n",
       "      <td>6</td>\n",
       "      <td>0.773751</td>\n",
       "    </tr>\n",
       "    <tr>\n",
       "      <th>6</th>\n",
       "      <td>7</td>\n",
       "      <td>0.772989</td>\n",
       "    </tr>\n",
       "    <tr>\n",
       "      <th>7</th>\n",
       "      <td>8</td>\n",
       "      <td>0.766034</td>\n",
       "    </tr>\n",
       "    <tr>\n",
       "      <th>8</th>\n",
       "      <td>9</td>\n",
       "      <td>0.769895</td>\n",
       "    </tr>\n",
       "  </tbody>\n",
       "</table>\n",
       "</div>"
      ],
      "text/plain": [
       "   max_depth       AUC\n",
       "0          1  0.791511\n",
       "1          2  0.797689\n",
       "2          3  0.789962\n",
       "3          4  0.789971\n",
       "4          5  0.785338\n",
       "5          6  0.773751\n",
       "6          7  0.772989\n",
       "7          8  0.766034\n",
       "8          9  0.769895"
      ]
     },
     "execution_count": 10,
     "metadata": {},
     "output_type": "execute_result"
    }
   ],
   "source": [
    "# Creates a dictionary with curly brackest {}\n",
    "d = {complexity_param :[i for i in param_range], \"AUC\" : accuracies_cross_validation} \n",
    "# Convert the dict into a data frame\n",
    "df = pd.DataFrame(d, columns =[complexity_param,'AUC'] )\n",
    "df"
   ]
  },
  {
   "cell_type": "code",
   "execution_count": 11,
   "metadata": {},
   "outputs": [
    {
     "data": {
      "text/html": [
       "<div>\n",
       "<style scoped>\n",
       "    .dataframe tbody tr th:only-of-type {\n",
       "        vertical-align: middle;\n",
       "    }\n",
       "\n",
       "    .dataframe tbody tr th {\n",
       "        vertical-align: top;\n",
       "    }\n",
       "\n",
       "    .dataframe thead th {\n",
       "        text-align: right;\n",
       "    }\n",
       "</style>\n",
       "<table border=\"1\" class=\"dataframe\">\n",
       "  <thead>\n",
       "    <tr style=\"text-align: right;\">\n",
       "      <th></th>\n",
       "      <th>max_depth</th>\n",
       "      <th>AUC</th>\n",
       "    </tr>\n",
       "  </thead>\n",
       "  <tbody>\n",
       "    <tr>\n",
       "      <th>1</th>\n",
       "      <td>2</td>\n",
       "      <td>0.797689</td>\n",
       "    </tr>\n",
       "  </tbody>\n",
       "</table>\n",
       "</div>"
      ],
      "text/plain": [
       "   max_depth       AUC\n",
       "1          2  0.797689"
      ]
     },
     "execution_count": 11,
     "metadata": {},
     "output_type": "execute_result"
    }
   ],
   "source": [
    "# Best Model\n",
    "df.loc[(df.iloc[:,1] == max(df.iloc[:,1]))]"
   ]
  },
  {
   "cell_type": "code",
   "execution_count": 12,
   "metadata": {},
   "outputs": [
    {
     "data": {
      "text/plain": [
       "<matplotlib.text.Text at 0x1a10ef3f60>"
      ]
     },
     "execution_count": 12,
     "metadata": {},
     "output_type": "execute_result"
    },
    {
     "data": {
      "image/png": "[encoded data removed]",
      "text/plain": [
       "<matplotlib.figure.Figure at 0x1a10e8b0f0>"
      ]
     },
     "metadata": {},
     "output_type": "display_data"
    }
   ],
   "source": [
    "%matplotlib inline\n",
    "#df.plot.line(df.columns[0],df.columns[1])\n",
    "\n",
    "plt.scatter(df.iloc[:,0],df.iloc[:,1])\n",
    "plt.plot(df.iloc[:,0],df.iloc[:,1])\n",
    "plt.xlabel(complexity_param)\n",
    "plt.ylabel('AUC')\n",
    "plt.title(\"Decision Tree Classifier\\n AUC vs. \"+ complexity_param)"
   ]
  },
  {
   "cell_type": "code",
   "execution_count": null,
   "metadata": {
    "collapsed": true
   },
   "outputs": [],
   "source": []
  },
  {
   "cell_type": "markdown",
   "metadata": {},
   "source": [
    "I choose the model with the following complexity:"
   ]
  },
  {
   "cell_type": "code",
   "execution_count": 13,
   "metadata": {
    "collapsed": true
   },
   "outputs": [],
   "source": [
    "# your answer here!"
   ]
  },
  {
   "cell_type": "markdown",
   "metadata": {},
   "source": [
    "### Logistic Regression\n",
    "Look at the documentation for logistic regression classifiers [here](http://scikit-learn.org/stable/modules/generated/sklearn.linear_model.LogisticRegression.html).\n",
    "\n",
    "Display a table showing the AUC over a range of your chosen penalty parameter (`\"l1`\" or `\"l2\"`). Change the argument \"C\" by exponential values of 10 to find the best cross-validated AUC."
   ]
  },
  {
   "cell_type": "code",
   "execution_count": 14,
   "metadata": {
    "collapsed": true
   },
   "outputs": [],
   "source": [
    "# your code here!"
   ]
  },
  {
   "cell_type": "markdown",
   "metadata": {},
   "source": [
    "### Your Choice!\n",
    "A third model type of your choice.  Some model types won’t have a complexity parameter to tune, so just run them with the default settings.  Some suggestions: [Naïve Bayes](http://scikit-learn.org/stable/modules/generated/sklearn.naive_bayes.GaussianNB.html) (see Chapter 9; no complexity parameter), [kNN classifier](http://scikit-learn.org/stable/modules/generated/sklearn.neighbors.KNeighborsClassifier.html#sklearn.neighbors.KNeighborsClassifier) – see Chapter 6. increase parameter `n_neighbors` to make a simpler model, [Random Forest Classifier](http://scikit-learn.org/stable/modules/generated/sklearn.ensemble.RandomForestClassifier.html) - an ensemble of decision trees."
   ]
  },
  {
   "cell_type": "code",
   "execution_count": 15,
   "metadata": {
    "collapsed": true
   },
   "outputs": [],
   "source": [
    "# your code here!"
   ]
  },
  {
   "cell_type": "markdown",
   "metadata": {},
   "source": [
    "### Which Model to Choose\n",
    "Tell us the process you went through to set the complexity parameter for each model, ideally providing appropriate charts or graphs to support your decision (note: you don’t need to give us the full fitting curves, but do provide convincing evidence as to why you chose the parameter setting you did). \n",
    "#### Your answer here!\n",
    "..."
   ]
  },
  {
   "cell_type": "markdown",
   "metadata": {},
   "source": [
    "Now, pick one model to move forward with.  Why did you select this one?\n",
    "#### Your answer here!\n",
    "..."
   ]
  },
  {
   "cell_type": "markdown",
   "metadata": {},
   "source": [
    "## Picking a Threshold\n"
   ]
  },
  {
   "cell_type": "markdown",
   "metadata": {},
   "source": [
    "Split the training data using train_test_split to estimate the model's performance on unseen data. Store predictions as probability scores of being class `1` using `predict_proba`."
   ]
  },
  {
   "cell_type": "code",
   "execution_count": 16,
   "metadata": {
    "collapsed": true
   },
   "outputs": [],
   "source": [
    "from sklearn.model_selection import train_test_split\n",
    "X_train, X_test, Y_train, Y_test = train_test_split(X, Y,train_size=.8,shuffle=True) "
   ]
  },
  {
   "cell_type": "code",
   "execution_count": 17,
   "metadata": {
    "collapsed": true,
    "scrolled": true
   },
   "outputs": [],
   "source": [
    "## As a demonstration I test it on a basic out-of-the-box logistic regression model\n",
    "from sklearn.linear_model import LogisticRegression\n",
    "\n",
    "model = LogisticRegression()\n",
    "model.fit(X_train,Y_train)\n",
    "probabilities = model.predict_proba(X_test)\n",
    "\n",
    "# Do it with your model here!"
   ]
  },
  {
   "cell_type": "markdown",
   "metadata": {},
   "source": [
    "Use the estimated probabilities to rank the prospects for propensity to donate if targeted with a mailing. Hint: use [DataFrame.sort_values()](http://pandas.pydata.org/pandas-docs/version/0.18/generated/pandas.DataFrame.sort.html). Print the top 10 rows of the data frame."
   ]
  },
  {
   "cell_type": "code",
   "execution_count": 18,
   "metadata": {
    "collapsed": true
   },
   "outputs": [],
   "source": [
    "d = {'predicted_prob_donate' : probabilities[:,1], # we only select the probability of class = 1 (i.e. the second column)\n",
    "     'actually_donated' : Y_test}\n",
    "df = pd.DataFrame(d)\n",
    "df_sorted = df.sort_values(\"predicted_prob_donate\",ascending=False)\n",
    "\n",
    "# your work here. print the top 10 rows."
   ]
  },
  {
   "cell_type": "markdown",
   "metadata": {},
   "source": [
    "### How many people can you target?\n",
    "The cost of each mailing is \\$2 and the budget is $3000?"
   ]
  },
  {
   "cell_type": "code",
   "execution_count": 19,
   "metadata": {
    "collapsed": true
   },
   "outputs": [],
   "source": [
    "# You work here!"
   ]
  },
  {
   "cell_type": "markdown",
   "metadata": {},
   "source": [
    "[your explanation here]"
   ]
  },
  {
   "cell_type": "markdown",
   "metadata": {},
   "source": [
    "### What is the Lift?\n",
    "Compute the lift you would (expect to) achieve if you target the top 1%, 5%, and 10% of the people in the test set by your ranking. What percent of the entire population would donate (if chosen at random)?  How do these compare?"
   ]
  },
  {
   "cell_type": "code",
   "execution_count": 20,
   "metadata": {
    "collapsed": true
   },
   "outputs": [],
   "source": [
    "# You work here!"
   ]
  },
  {
   "cell_type": "markdown",
   "metadata": {},
   "source": [
    "[your explanation here]"
   ]
  },
  {
   "cell_type": "markdown",
   "metadata": {},
   "source": [
    "Here is the code used to construct a lift curve (lift vs. percent targeted)."
   ]
  },
  {
   "cell_type": "code",
   "execution_count": 21,
   "metadata": {},
   "outputs": [
    {
     "data": {
      "image/png": "[encoded data removed]",
      "text/plain": [
       "<matplotlib.figure.Figure at 0x1a1a6a6080>"
      ]
     },
     "metadata": {},
     "output_type": "display_data"
    }
   ],
   "source": [
    "lift = {'pct' : [], 'lift' : []}\n",
    "for i in range(1,100):\n",
    "    top_n_pct = float(i)/100 # percent\n",
    "    top_n_rows = int(df_sorted.shape[0]*top_n_pct)\n",
    "\n",
    "    # number of \"true positives\" in the top n%\n",
    "    TP = sum(pd.to_numeric(df_sorted.iloc[1:top_n_rows,0]))\n",
    "    pct_TP = np.mean(pd.to_numeric(df_sorted.iloc[1:top_n_rows,0]))\n",
    "\n",
    "    # base rate\n",
    "    base_rate = np.mean(pd.to_numeric(df[\"actually_donated\"]))\n",
    "\n",
    "    # lift\n",
    "    lift['lift'].append(pct_TP / base_rate)\n",
    "    lift['pct'].append(top_n_pct)\n",
    "    \n",
    "lift_df = pd.DataFrame(lift)\n",
    "\n",
    "plt.scatter(lift_df['pct'],lift_df['lift'])\n",
    "plt.plot(lift_df['pct'],lift_df['lift'])\n",
    "plt.xlabel('fraction of people targeted')\n",
    "plt.ylabel('lift')\n",
    "plt.title('Lift Curve')\n",
    "plt.show()"
   ]
  },
  {
   "cell_type": "code",
   "execution_count": 34,
   "metadata": {},
   "outputs": [
    {
     "data": {
      "text/html": [
       "<div>\n",
       "<style scoped>\n",
       "    .dataframe tbody tr th:only-of-type {\n",
       "        vertical-align: middle;\n",
       "    }\n",
       "\n",
       "    .dataframe tbody tr th {\n",
       "        vertical-align: top;\n",
       "    }\n",
       "\n",
       "    .dataframe thead th {\n",
       "        text-align: right;\n",
       "    }\n",
       "</style>\n",
       "<table border=\"1\" class=\"dataframe\">\n",
       "  <thead>\n",
       "    <tr style=\"text-align: right;\">\n",
       "      <th></th>\n",
       "      <th>actually_donated</th>\n",
       "      <th>predicted_prob_donate</th>\n",
       "    </tr>\n",
       "  </thead>\n",
       "  <tbody>\n",
       "    <tr>\n",
       "      <th>14673</th>\n",
       "      <td>0</td>\n",
       "      <td>0.670163</td>\n",
       "    </tr>\n",
       "    <tr>\n",
       "      <th>17438</th>\n",
       "      <td>0</td>\n",
       "      <td>0.656784</td>\n",
       "    </tr>\n",
       "    <tr>\n",
       "      <th>6418</th>\n",
       "      <td>1</td>\n",
       "      <td>0.577038</td>\n",
       "    </tr>\n",
       "    <tr>\n",
       "      <th>1339</th>\n",
       "      <td>1</td>\n",
       "      <td>0.528036</td>\n",
       "    </tr>\n",
       "    <tr>\n",
       "      <th>16946</th>\n",
       "      <td>0</td>\n",
       "      <td>0.508386</td>\n",
       "    </tr>\n",
       "  </tbody>\n",
       "</table>\n",
       "</div>"
      ],
      "text/plain": [
       "       actually_donated  predicted_prob_donate\n",
       "14673                 0               0.670163\n",
       "17438                 0               0.656784\n",
       "6418                  1               0.577038\n",
       "1339                  1               0.528036\n",
       "16946                 0               0.508386"
      ]
     },
     "execution_count": 34,
     "metadata": {},
     "output_type": "execute_result"
    }
   ],
   "source": [
    "# You work here!\n",
    "df_sorted.head()\n"
   ]
  },
  {
   "cell_type": "code",
   "execution_count": 40,
   "metadata": {},
   "outputs": [
    {
     "data": {
      "text/plain": [
       "57"
      ]
     },
     "execution_count": 40,
     "metadata": {},
     "output_type": "execute_result"
    }
   ],
   "source": [
    "sum(df_sorted['actually_donated'][1:top_n_rows])"
   ]
  },
  {
   "cell_type": "markdown",
   "metadata": {},
   "source": [
    "## Cost-Benefit Analysis\n",
    "Assume that each donation is \\$10 and the cost of each mailer is \\$2.\n",
    "\n",
    "Compute the (expected) profit for each of the three thresholds (1%, 5%, 10%) of the population.  "
   ]
  },
  {
   "cell_type": "code",
   "execution_count": null,
   "metadata": {
    "collapsed": true
   },
   "outputs": [],
   "source": []
  },
  {
   "cell_type": "markdown",
   "metadata": {},
   "source": [
    "Construct a cumulative profit curve (profit vs. percent targeted) and show it below. You can reuse code from the Lift Curve above."
   ]
  },
  {
   "cell_type": "code",
   "execution_count": 45,
   "metadata": {},
   "outputs": [
    {
     "data": {
      "image/png": "[encoded data removed]",
      "text/plain": [
       "<matplotlib.figure.Figure at 0x1a1b54e8d0>"
      ]
     },
     "metadata": {},
     "output_type": "display_data"
    }
   ],
   "source": [
    "# Your work here!\n",
    "lift = {'pct' : [], 'lift' : [], 'profit':[]}\n",
    "\n",
    "Benefit = 10\n",
    "Cost = 2\n",
    "\n",
    "for i in range(1,100):\n",
    "    top_n_pct = float(i)/100 # percent\n",
    "    top_n_rows = int(df_sorted.shape[0]*top_n_pct)\n",
    "\n",
    "    # number of \"true positives\" in the top n%\n",
    "    TP = sum(df_sorted['actually_donated'][1:top_n_rows])\n",
    "    pct_TP = np.mean(pd.to_numeric(df_sorted['actually_donated'][1:top_n_rows])))\n",
    "\n",
    "    # base rate\n",
    "    base_rate = np.mean(pd.to_numeric(df[\"actually_donated\"]))\n",
    "\n",
    "    # lift\n",
    "    lift['lift'].append(pct_TP / base_rate)\n",
    "    lift['pct'].append(top_n_pct)\n",
    "    \n",
    "    # profit\n",
    "    lift['profit'].append(TP*Benefit-top_n_rows*Cost)\n",
    "    \n",
    "    \n",
    "lift_df = pd.DataFrame(lift)\n",
    "\n",
    "plt.scatter(lift_df['pct'],lift_df['profit'])\n",
    "plt.plot(lift_df['pct'],lift_df['profit'])\n",
    "plt.xlabel('fraction of people targeted')\n",
    "plt.ylabel('profit ($)')\n",
    "plt.title('Profit Curve')\n",
    "plt.show()"
   ]
  },
  {
   "cell_type": "code",
   "execution_count": 46,
   "metadata": {},
   "outputs": [
    {
     "name": "stdout",
     "output_type": "stream",
     "text": [
      "top .01 12\n",
      "top .05 34\n",
      "top .10 34\n"
     ]
    },
    {
     "data": {
      "image/png": "[encoded data removed]",
      "text/plain": [
       "<matplotlib.figure.Figure at 0x1a1b3f5860>"
      ]
     },
     "metadata": {},
     "output_type": "display_data"
    }
   ],
   "source": [
    "from sklearn.metrics import roc_curve\n",
    "\n",
    "benefit_matrix = np.array([[8, -2], [0, 0]])\n",
    "\n",
    "predictions = model.predict_proba(X_test)[:,1]\n",
    "\n",
    "fpr, tpr, thresholds = roc_curve(Y_test, predictions,1)\n",
    "fnr = 1 - tpr\n",
    "tnr = 1 - fpr\n",
    "\n",
    "num_pos = Y_test.sum()\n",
    "num_neg = (1 - Y_test).sum()\n",
    "\n",
    "population = np.array([[num_pos, num_neg], [num_pos, num_neg]])\n",
    "\n",
    "# this is (2 x 2 x len(fpr))\n",
    "stats = np.array([[tpr, fpr], [fnr, tnr]])\n",
    "decision_benefits = stats*benefit_matrix.reshape(2,2,1) # numpy broadcasting\n",
    "population_benefits = decision_benefits*population.reshape(2,2,1)\n",
    "\n",
    "benefits = population_benefits.sum(axis=(0,1))\n",
    "pct_targeted = np.array([np.sum(predictions >= t)/float(len(predictions))  for t in thresholds])\n",
    "\n",
    "# profit for thresholds\n",
    "\n",
    "# np.where is weird\n",
    "print (\"top .01 %d\" % benefits[np.where(pct_targeted > 0.01)[0][0]])\n",
    "print (\"top .05 %d\" % benefits[np.where(pct_targeted > 0.05)[0][0]])\n",
    "print (\"top .10 %d\" % benefits[np.where(pct_targeted > 0.1)[0][0]])\n",
    "\n",
    "# my model is bad!\n",
    "plt.plot(pct_targeted, benefits)\n",
    "plt.xlabel(\"Percentage of users targeted\")\n",
    "plt.ylabel(\"Profit\")\n",
    "plt.title(\"Profits\")\n",
    "plt.show()"
   ]
  },
  {
   "cell_type": "markdown",
   "metadata": {},
   "source": [
    "Now construct another profit curve, instead using the probability \"cutoff treshold\" as your X-axis."
   ]
  },
  {
   "cell_type": "code",
   "execution_count": 26,
   "metadata": {
    "collapsed": true
   },
   "outputs": [],
   "source": [
    "# Your work here!"
   ]
  },
  {
   "cell_type": "markdown",
   "metadata": {},
   "source": [
    "### Maximizing Profit\n",
    "What threshold should you use if you are trying to maximize your total expected profit?  What would the total profit be?"
   ]
  },
  {
   "cell_type": "code",
   "execution_count": null,
   "metadata": {
    "collapsed": true
   },
   "outputs": [],
   "source": []
  },
  {
   "cell_type": "markdown",
   "metadata": {},
   "source": [
    "[your explanation here]"
   ]
  },
  {
   "cell_type": "markdown",
   "metadata": {},
   "source": [
    "### Breaking Even\n",
    "What threshold should you use if you want to send the most mailings you can and still “break even”?  "
   ]
  },
  {
   "cell_type": "code",
   "execution_count": null,
   "metadata": {
    "collapsed": true
   },
   "outputs": [],
   "source": []
  },
  {
   "cell_type": "markdown",
   "metadata": {},
   "source": [
    "[your explanation here]"
   ]
  },
  {
   "cell_type": "markdown",
   "metadata": {},
   "source": [
    "## Model Deployment: Which People to Target?\n",
    "The above analyses were run purely using different splits of the training data. Now assume we have a new set of people to target, held in the file `mailing_test.arff`.\n",
    "\n",
    "Given the decisions you made above, let's make some choices about the people in this \"deployment\" dataset.\n",
    "\n",
    "I have provided the code below for you to merge the train and the test sets to ensure they both have the same column types."
   ]
  },
  {
   "cell_type": "code",
   "execution_count": 27,
   "metadata": {
    "collapsed": true
   },
   "outputs": [],
   "source": [
    "from sklearn.model_selection import train_test_split\n",
    "# First, let us make sure that the test set and training set have the same columns\n",
    "both= pd.concat([train_df_no_nas,test_df_no_nas],axis=0)\n",
    "both.dropna(axis=1)\n",
    "X = both.iloc[:,both.columns != 'TARGET_B']\n",
    "\n",
    "# remember to get the dummy variables\n",
    "X = pd.get_dummies(X)\n",
    "\n",
    "# the target is entered as a string, let's convert it to numeric\n",
    "Y = pd.to_numeric(both['TARGET_B'])\n",
    "\n",
    "train_size = train_df_no_nas.shape[0] # the number of rows in the training set\n",
    "X_train, X_deploy, Y_train, Y_deploy = train_test_split(X, Y, train_size=train_size,shuffle=False) # turn shuffle off"
   ]
  },
  {
   "cell_type": "markdown",
   "metadata": {},
   "source": [
    "Use the estimated probabilities to rank the prospects for propensity to donate if targeted with a mailing **on the deployment data (X_deploy)**.\n",
    "\n",
    "In this deployment stage, pretend you cannot see the true labels (Y_deploy)"
   ]
  },
  {
   "cell_type": "code",
   "execution_count": 28,
   "metadata": {
    "collapsed": true
   },
   "outputs": [],
   "source": [
    "# your work here. print the top 10 rows."
   ]
  },
  {
   "cell_type": "markdown",
   "metadata": {},
   "source": [
    "### Maximizing Profit\n",
    "Using our threshold chosen above, if there were no budget constraints how many people in the deployment set should we target to maximize profit? What would be the estimated total profit?"
   ]
  },
  {
   "cell_type": "code",
   "execution_count": null,
   "metadata": {
    "collapsed": true
   },
   "outputs": [],
   "source": []
  },
  {
   "cell_type": "markdown",
   "metadata": {},
   "source": [
    "[your explanation here]"
   ]
  },
  {
   "cell_type": "markdown",
   "metadata": {},
   "source": [
    "### Breaking Even\n",
    "How many people in the deployment set can we target if we just want to “break even”?  "
   ]
  },
  {
   "cell_type": "code",
   "execution_count": null,
   "metadata": {
    "collapsed": true
   },
   "outputs": [],
   "source": []
  },
  {
   "cell_type": "markdown",
   "metadata": {},
   "source": [
    "[your explanation here]"
   ]
  },
  {
   "cell_type": "markdown",
   "metadata": {},
   "source": [
    "### Thinking about the budget\n",
    "What is your expected profit for your $3000 budget?  Does this budget make business sense for these data?  Make a recommendation for what to do."
   ]
  },
  {
   "cell_type": "code",
   "execution_count": null,
   "metadata": {
    "collapsed": true
   },
   "outputs": [],
   "source": []
  },
  {
   "cell_type": "markdown",
   "metadata": {},
   "source": [
    "[your explanation here]"
   ]
  },
  {
   "cell_type": "markdown",
   "metadata": {},
   "source": [
    "## Reviewing Past Decisions\n",
    "Pretend you are now in the future, and have the true labels for the people whom you sent the mailer to (Y_deploy). Compute your actual profit using the chosen threshold and compare to your estimated profit."
   ]
  },
  {
   "cell_type": "code",
   "execution_count": null,
   "metadata": {
    "collapsed": true
   },
   "outputs": [],
   "source": []
  },
  {
   "cell_type": "markdown",
   "metadata": {},
   "source": [
    "[your explanation here]"
   ]
  },
  {
   "cell_type": "markdown",
   "metadata": {},
   "source": [
    "#### (Ungraded)  Calculate the actual lift \n",
    "How do you calculate the base rate, given you do not (ostensibly) have the \"actual\" labels for people you do not give the mailers to?\n",
    "\n",
    "Compute your actual lift using the chosen threshold and compare to your estimated lift."
   ]
  },
  {
   "cell_type": "code",
   "execution_count": null,
   "metadata": {
    "collapsed": true
   },
   "outputs": [],
   "source": []
  },
  {
   "cell_type": "markdown",
   "metadata": {},
   "source": [
    "[your explanation here]"
   ]
  },
  {
   "cell_type": "markdown",
   "metadata": {},
   "source": [
    "## Turning in Assignment\n",
    "Save this notebook as a pdf using\n",
    "\n",
    "`File>Download as>PDF via LaTeX (.pdf)` \n",
    "\n",
    "submit as PDF on NYU classes"
   ]
  }
 ],
 "metadata": {
  "kernelspec": {
   "display_name": "Python 3",
   "language": "python",
   "name": "python3"
  },
  "language_info": {
   "codemirror_mode": {
    "name": "ipython",
    "version": 3
   },
   "file_extension": ".py",
   "mimetype": "text/x-python",
   "name": "python",
   "nbconvert_exporter": "python",
   "pygments_lexer": "ipython3",
   "version": "3.5.3"
  }
 },
 "nbformat": 4,
 "nbformat_minor": 1
}
