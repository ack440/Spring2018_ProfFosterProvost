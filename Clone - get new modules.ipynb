{
 "cells": [
  {
   "cell_type": "code",
   "execution_count": 1,
   "metadata": {},
   "outputs": [
    {
     "name": "stdout",
     "output_type": "stream",
     "text": [
      "fatal: destination path 'Spring2018_ProfFosterProvost' already exists and is not an empty directory.\r\n"
     ]
    }
   ],
   "source": [
    "! git clone https://github.com/nicholasg3/Spring2018_ProfFosterProvost.git"
   ]
  },
  {
   "cell_type": "code",
   "execution_count": 2,
   "metadata": {},
   "outputs": [
    {
     "name": "stdout",
     "output_type": "stream",
     "text": [
      "Clone - get new modules.ipynb  README.md\r\n",
      "Module0_Basics\t\t       server instructions\r\n",
      "Module1_Bash_Pandas\t       Spring2018_ProfFosterProvost\r\n",
      "Module2_Supervised\t       Weka Installation Guides\r\n",
      "Module3_Fitting_CrossVal\r\n"
     ]
    }
   ],
   "source": [
    "!ls"
   ]
  }
 ],
 "metadata": {
  "kernelspec": {
   "display_name": "Python 3",
   "language": "python",
   "name": "python3"
  },
  "language_info": {
   "codemirror_mode": {
    "name": "ipython",
    "version": 3
   },
   "file_extension": ".py",
   "mimetype": "text/x-python",
   "name": "python",
   "nbconvert_exporter": "python",
   "pygments_lexer": "ipython3",
   "version": "3.5.2"
  }
 },
 "nbformat": 4,
 "nbformat_minor": 2
}
