{
 "cells": [
  {
   "cell_type": "code",
   "execution_count": 34,
   "metadata": {},
   "outputs": [
    {
     "name": "stdout",
     "output_type": "stream",
     "text": [
      "From https://github.com/nicholasg3/Spring2018_ProfFosterProvost\r\n",
      " * branch            HEAD       -> FETCH_HEAD\r\n",
      "Already up-to-date.\r\n"
     ]
    }
   ],
   "source": [
    "! git pull https://github.com/nicholasg3/Spring2018_ProfFosterProvost.git"
   ]
  },
  {
   "cell_type": "code",
   "execution_count": 35,
   "metadata": {},
   "outputs": [
    {
     "name": "stdout",
     "output_type": "stream",
     "text": [
      "On branch Spring2018_DM_edits\r\n",
      "Your branch is ahead of 'origin/Spring2018_DM_edits' by 1 commit.\r\n",
      "  (use \"git push\" to publish your local commits)\r\n",
      "Changes not staged for commit:\r\n",
      "  (use \"git add/rm <file>...\" to update what will be committed)\r\n",
      "  (use \"git checkout -- <file>...\" to discard changes in working directory)\r\n",
      "\r\n",
      "\t\u001b[31mdeleted:    Module0_Basics/.ipynb_checkpoints/Programming_Structures_and_Python_Basics_2017-checkpoint.ipynb\u001b[m\r\n",
      "\t\u001b[31mdeleted:    Module0_Basics/Programming_Structures_and_Python_Basics_2017.ipynb\u001b[m\r\n",
      "\t\u001b[31mmodified:   fake_terminal_2.ipynb\u001b[m\r\n",
      "\r\n",
      "Untracked files:\r\n",
      "  (use \"git add <file>...\" to include in what will be committed)\r\n",
      "\r\n",
      "\t\u001b[31m.ipynb_checkpoints/\u001b[m\r\n",
      "\t\u001b[31mModule0_Basics/.ipynb_checkpoints/Programming_Structures_and_Python_Basics_2018-checkpoint.ipynb\u001b[m\r\n",
      "\t\u001b[31mModule0_Basics/Programming_Structures_and_Python_Basics_2018.ipynb\u001b[m\r\n",
      "\r\n",
      "no changes added to commit (use \"git add\" and/or \"git commit -a\")\r\n"
     ]
    }
   ],
   "source": [
    "! git status"
   ]
  },
  {
   "cell_type": "code",
   "execution_count": 36,
   "metadata": {},
   "outputs": [],
   "source": [
    "#! git branch Spring2018_DM_edits"
   ]
  },
  {
   "cell_type": "code",
   "execution_count": 38,
   "metadata": {},
   "outputs": [],
   "source": [
    "#! git status"
   ]
  },
  {
   "cell_type": "code",
   "execution_count": 39,
   "metadata": {},
   "outputs": [
    {
     "name": "stdout",
     "output_type": "stream",
     "text": [
      "D\tModule0_Basics/.ipynb_checkpoints/Programming_Structures_and_Python_Basics_2017-checkpoint.ipynb\r\n",
      "D\tModule0_Basics/Programming_Structures_and_Python_Basics_2017.ipynb\r\n",
      "M\tfake_terminal_2.ipynb\r\n",
      "Already on 'Spring2018_DM_edits'\r\n",
      "Your branch is ahead of 'origin/Spring2018_DM_edits' by 1 commit.\r\n",
      "  (use \"git push\" to publish your local commits)\r\n"
     ]
    }
   ],
   "source": [
    "! git checkout Spring2018_DM_edits"
   ]
  },
  {
   "cell_type": "code",
   "execution_count": 40,
   "metadata": {},
   "outputs": [
    {
     "name": "stdout",
     "output_type": "stream",
     "text": [
      "On branch Spring2018_DM_edits\r\n",
      "Your branch is ahead of 'origin/Spring2018_DM_edits' by 1 commit.\r\n",
      "  (use \"git push\" to publish your local commits)\r\n",
      "Changes not staged for commit:\r\n",
      "  (use \"git add/rm <file>...\" to update what will be committed)\r\n",
      "  (use \"git checkout -- <file>...\" to discard changes in working directory)\r\n",
      "\r\n",
      "\t\u001b[31mdeleted:    Module0_Basics/.ipynb_checkpoints/Programming_Structures_and_Python_Basics_2017-checkpoint.ipynb\u001b[m\r\n",
      "\t\u001b[31mdeleted:    Module0_Basics/Programming_Structures_and_Python_Basics_2017.ipynb\u001b[m\r\n",
      "\t\u001b[31mmodified:   fake_terminal_2.ipynb\u001b[m\r\n",
      "\r\n",
      "Untracked files:\r\n",
      "  (use \"git add <file>...\" to include in what will be committed)\r\n",
      "\r\n",
      "\t\u001b[31m.ipynb_checkpoints/\u001b[m\r\n",
      "\t\u001b[31mModule0_Basics/.ipynb_checkpoints/Programming_Structures_and_Python_Basics_2018-checkpoint.ipynb\u001b[m\r\n",
      "\t\u001b[31mModule0_Basics/Programming_Structures_and_Python_Basics_2018.ipynb\u001b[m\r\n",
      "\r\n",
      "no changes added to commit (use \"git add\" and/or \"git commit -a\")\r\n"
     ]
    }
   ],
   "source": [
    "! git status"
   ]
  },
  {
   "cell_type": "code",
   "execution_count": 41,
   "metadata": {},
   "outputs": [],
   "source": [
    "! git add *"
   ]
  },
  {
   "cell_type": "code",
   "execution_count": 42,
   "metadata": {},
   "outputs": [
    {
     "name": "stdout",
     "output_type": "stream",
     "text": [
      "On branch Spring2018_DM_edits\r\n",
      "Your branch is ahead of 'origin/Spring2018_DM_edits' by 1 commit.\r\n",
      "  (use \"git push\" to publish your local commits)\r\n",
      "Changes to be committed:\r\n",
      "  (use \"git reset HEAD <file>...\" to unstage)\r\n",
      "\r\n",
      "\t\u001b[32mrenamed:    Module0_Basics/.ipynb_checkpoints/Programming_Structures_and_Python_Basics_2017-checkpoint.ipynb -> Module0_Basics/.ipynb_checkpoints/Programming_Structures_and_Python_Basics_2018-checkpoint.ipynb\u001b[m\r\n",
      "\t\u001b[32mrenamed:    Module0_Basics/Programming_Structures_and_Python_Basics_2017.ipynb -> Module0_Basics/Programming_Structures_and_Python_Basics_2018.ipynb\u001b[m\r\n",
      "\t\u001b[32mmodified:   fake_terminal_2.ipynb\u001b[m\r\n",
      "\r\n",
      "Untracked files:\r\n",
      "  (use \"git add <file>...\" to include in what will be committed)\r\n",
      "\r\n",
      "\t\u001b[31m.ipynb_checkpoints/\u001b[m\r\n",
      "\r\n"
     ]
    }
   ],
   "source": [
    "! git status"
   ]
  },
  {
   "cell_type": "code",
   "execution_count": 44,
   "metadata": {},
   "outputs": [
    {
     "name": "stdout",
     "output_type": "stream",
     "text": [
      "On branch Spring2018_DM_edits\r\n",
      "Your branch is ahead of 'origin/Spring2018_DM_edits' by 2 commits.\r\n",
      "  (use \"git push\" to publish your local commits)\r\n",
      "Untracked files:\r\n",
      "\t\u001b[31m.ipynb_checkpoints/\u001b[m\r\n",
      "\r\n",
      "nothing added to commit but untracked files present\r\n"
     ]
    }
   ],
   "source": [
    "! git commit -m \"test3\""
   ]
  },
  {
   "cell_type": "code",
   "execution_count": 22,
   "metadata": {},
   "outputs": [
    {
     "name": "stdout",
     "output_type": "stream",
     "text": [
      "Username for 'https://github.com': ^C\n"
     ]
    }
   ],
   "source": [
    "#! git push -u origin Spring2018_DM_edits"
   ]
  },
  {
   "cell_type": "code",
   "execution_count": null,
   "metadata": {},
   "outputs": [],
   "source": []
  }
 ],
 "metadata": {
  "kernelspec": {
   "display_name": "Python 3",
   "language": "python",
   "name": "python3"
  },
  "language_info": {
   "codemirror_mode": {
    "name": "ipython",
    "version": 3
   },
   "file_extension": ".py",
   "mimetype": "text/x-python",
   "name": "python",
   "nbconvert_exporter": "python",
   "pygments_lexer": "ipython3",
   "version": "3.5.2"
  }
 },
 "nbformat": 4,
 "nbformat_minor": 2
}
