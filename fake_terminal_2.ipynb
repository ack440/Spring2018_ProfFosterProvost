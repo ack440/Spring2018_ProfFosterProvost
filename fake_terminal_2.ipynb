{
 "cells": [
  {
   "cell_type": "code",
   "execution_count": 2,
   "metadata": {},
   "outputs": [
    {
     "name": "stdout",
     "output_type": "stream",
     "text": [
      "From https://github.com/nicholasg3/Spring2018_ProfFosterProvost\n",
      " * branch            HEAD       -> FETCH_HEAD\n",
      "Already up-to-date.\n"
     ]
    }
   ],
   "source": [
    "! git pull https://github.com/nicholasg3/Spring2018_ProfFosterProvost.git"
   ]
  },
  {
   "cell_type": "code",
   "execution_count": 3,
   "metadata": {},
   "outputs": [
    {
     "name": "stdout",
     "output_type": "stream",
     "text": [
      "On branch Spring2018_DM_edits\r\n",
      "Your branch is up-to-date with 'origin/Spring2018_DM_edits'.\r\n",
      "Changes not staged for commit:\r\n",
      "  (use \"git add <file>...\" to update what will be committed)\r\n",
      "  (use \"git checkout -- <file>...\" to discard changes in working directory)\r\n",
      "\r\n",
      "\t\u001b[31mmodified:   fake_terminal_2.ipynb\u001b[m\r\n",
      "\r\n",
      "Untracked files:\r\n",
      "  (use \"git add <file>...\" to include in what will be committed)\r\n",
      "\r\n",
      "\t\u001b[31m.ipynb_checkpoints/\u001b[m\r\n",
      "\r\n",
      "no changes added to commit (use \"git add\" and/or \"git commit -a\")\r\n"
     ]
    }
   ],
   "source": [
    "! git status"
   ]
  },
  {
   "cell_type": "code",
   "execution_count": 5,
   "metadata": {},
   "outputs": [
    {
     "name": "stdout",
     "output_type": "stream",
     "text": [
      "fatal: A branch named 'Spring2018_DM_edits' already exists.\r\n"
     ]
    }
   ],
   "source": [
    "! git branch Spring2018_DM_edits"
   ]
  },
  {
   "cell_type": "code",
   "execution_count": 6,
   "metadata": {},
   "outputs": [
    {
     "name": "stdout",
     "output_type": "stream",
     "text": [
      "On branch Spring2018_DM_edits\r\n",
      "Your branch is up-to-date with 'origin/Spring2018_DM_edits'.\r\n",
      "Changes not staged for commit:\r\n",
      "  (use \"git add <file>...\" to update what will be committed)\r\n",
      "  (use \"git checkout -- <file>...\" to discard changes in working directory)\r\n",
      "\r\n",
      "\t\u001b[31mmodified:   fake_terminal_2.ipynb\u001b[m\r\n",
      "\r\n",
      "Untracked files:\r\n",
      "  (use \"git add <file>...\" to include in what will be committed)\r\n",
      "\r\n",
      "\t\u001b[31m.ipynb_checkpoints/\u001b[m\r\n",
      "\r\n",
      "no changes added to commit (use \"git add\" and/or \"git commit -a\")\r\n"
     ]
    }
   ],
   "source": [
    "! git status"
   ]
  },
  {
   "cell_type": "code",
   "execution_count": 10,
   "metadata": {},
   "outputs": [
    {
     "name": "stdout",
     "output_type": "stream",
     "text": [
      "M\tModule0_Basics/Ipython_notebooks_2017.ipynb\r\n",
      "M\tModule0_Basics/Programming_Structures_and_Python_Basics_2017.ipynb\r\n",
      "Switched to branch 'Spring2018_DM_edits'\r\n"
     ]
    }
   ],
   "source": [
    "! git checkout Spring2018_DM_edits"
   ]
  },
  {
   "cell_type": "code",
   "execution_count": 12,
   "metadata": {},
   "outputs": [
    {
     "name": "stdout",
     "output_type": "stream",
     "text": [
      "On branch Spring2018_DM_edits\r\n",
      "Changes not staged for commit:\r\n",
      "  (use \"git add <file>...\" to update what will be committed)\r\n",
      "  (use \"git checkout -- <file>...\" to discard changes in working directory)\r\n",
      "\r\n",
      "\t\u001b[31mmodified:   Module0_Basics/Ipython_notebooks_2017.ipynb\u001b[m\r\n",
      "\t\u001b[31mmodified:   Module0_Basics/Programming_Structures_and_Python_Basics_2017.ipynb\u001b[m\r\n",
      "\r\n",
      "Untracked files:\r\n",
      "  (use \"git add <file>...\" to include in what will be committed)\r\n",
      "\r\n",
      "\t\u001b[31m.ipynb_checkpoints/\u001b[m\r\n",
      "\t\u001b[31mModule0_Basics/.ipynb_checkpoints/\u001b[m\r\n",
      "\t\u001b[31mfake_terminal_2.ipynb\u001b[m\r\n",
      "\r\n",
      "no changes added to commit (use \"git add\" and/or \"git commit -a\")\r\n"
     ]
    }
   ],
   "source": [
    "! git status"
   ]
  },
  {
   "cell_type": "code",
   "execution_count": 15,
   "metadata": {},
   "outputs": [],
   "source": [
    "! git add *"
   ]
  },
  {
   "cell_type": "code",
   "execution_count": 16,
   "metadata": {},
   "outputs": [
    {
     "name": "stdout",
     "output_type": "stream",
     "text": [
      "On branch Spring2018_DM_edits\r\n",
      "Changes to be committed:\r\n",
      "  (use \"git reset HEAD <file>...\" to unstage)\r\n",
      "\r\n",
      "\t\u001b[32mrenamed:    Module0_Basics/Ipython_notebooks_2017.ipynb -> Module0_Basics/.ipynb_checkpoints/Ipython_notebooks_2018-checkpoint.ipynb\u001b[m\r\n",
      "\t\u001b[32mnew file:   Module0_Basics/.ipynb_checkpoints/Programming_Structures_and_Python_Basics_2017-checkpoint.ipynb\u001b[m\r\n",
      "\t\u001b[32mnew file:   Module0_Basics/Ipython_notebooks_2018.ipynb\u001b[m\r\n",
      "\t\u001b[32mmodified:   Module0_Basics/Programming_Structures_and_Python_Basics_2017.ipynb\u001b[m\r\n",
      "\t\u001b[32mnew file:   fake_terminal_2.ipynb\u001b[m\r\n",
      "\r\n",
      "Untracked files:\r\n",
      "  (use \"git add <file>...\" to include in what will be committed)\r\n",
      "\r\n",
      "\t\u001b[31m.ipynb_checkpoints/\u001b[m\r\n",
      "\r\n"
     ]
    }
   ],
   "source": [
    "! git status"
   ]
  },
  {
   "cell_type": "code",
   "execution_count": 17,
   "metadata": {},
   "outputs": [
    {
     "name": "stdout",
     "output_type": "stream",
     "text": [
      "[Spring2018_DM_edits 6523ae2] changed some file names\r\n",
      " 5 files changed, 1114 insertions(+), 75 deletions(-)\r\n",
      " rename Module0_Basics/{Ipython_notebooks_2017.ipynb => .ipynb_checkpoints/Ipython_notebooks_2018-checkpoint.ipynb} (97%)\r\n",
      " create mode 100644 Module0_Basics/.ipynb_checkpoints/Programming_Structures_and_Python_Basics_2017-checkpoint.ipynb\r\n",
      " create mode 100644 Module0_Basics/Ipython_notebooks_2018.ipynb\r\n",
      " create mode 100644 fake_terminal_2.ipynb\r\n"
     ]
    }
   ],
   "source": [
    "! git commit -m \"changed some file names\""
   ]
  },
  {
   "cell_type": "code",
   "execution_count": null,
   "metadata": {},
   "outputs": [
    {
     "name": "stdout",
     "output_type": "stream",
     "text": [
      "Username for 'https://github.com': "
     ]
    }
   ],
   "source": [
    "! git push -u origin Spring2018_DM_edits"
   ]
  },
  {
   "cell_type": "code",
   "execution_count": null,
   "metadata": {},
   "outputs": [],
   "source": []
  }
 ],
 "metadata": {
  "kernelspec": {
   "display_name": "Python 3",
   "language": "python",
   "name": "python3"
  },
  "language_info": {
   "codemirror_mode": {
    "name": "ipython",
    "version": 3
   },
   "file_extension": ".py",
   "mimetype": "text/x-python",
   "name": "python",
   "nbconvert_exporter": "python",
   "pygments_lexer": "ipython3",
   "version": "3.5.2"
  }
 },
 "nbformat": 4,
 "nbformat_minor": 2
}
